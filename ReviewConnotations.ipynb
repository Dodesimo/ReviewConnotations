{
 "cells": [
  {
   "cell_type": "code",
   "execution_count": 28,
   "outputs": [],
   "source": [
    "import torch\n",
    "import numpy\n",
    "import pandas as pd\n",
    "from torch.utils.data import Dataset, DataLoader\n",
    "from sklearn.feature_extraction.text import CountVectorizer"
   ],
   "metadata": {
    "collapsed": false,
    "pycharm": {
     "name": "#%%\n"
    }
   }
  },
  {
   "cell_type": "code",
   "execution_count": null,
   "outputs": [],
   "source": [
    "#Preview the dataset.\n",
    "dataframe = pd.read_csv(\"/Users/devam/PycharmProjects/ReviewConnotations/IMDB Dataset.csv\")\n",
    "dataframe.sample(5)\n",
    "dataframe.shape"
   ],
   "metadata": {
    "collapsed": false,
    "pycharm": {
     "name": "#%%\n"
    }
   }
  },
  {
   "cell_type": "code",
   "execution_count": 35,
   "outputs": [],
   "source": [
    "class ReviewSet(Dataset):\n",
    "    def __init__(self):\n",
    "        data = pd.read_csv(\"/Users/devam/PycharmProjects/ReviewConnotations/IMDB Dataset.csv\")\n",
    "        self.vectorizer = CountVectorizer(stop_words=\"english\", max_df=0.99, min_df=0.01)\n",
    "        self.sequences = self.vectorizer.fit_transform(data.review.tolist())\n",
    "        self.labels = data.sentiment.tolist()\n",
    "        self.token2idx = self.vectorizer.vocabulary_\n",
    "        self.idx2token = {idx: token for token, idx in self.token2idx.items()}\n",
    "\n",
    "    def __getitem__(self, item):\n",
    "        return self.sequences[item, :].toarray(), self.labels[item]\n",
    "\n",
    "    def __len__(self):\n",
    "        return self.sequences.shape[0]"
   ],
   "metadata": {
    "collapsed": false,
    "pycharm": {
     "name": "#%%\n"
    }
   }
  },
  {
   "cell_type": "code",
   "execution_count": 37,
   "outputs": [
    {
     "name": "stdout",
     "output_type": "stream",
     "text": [
      "tensor([[[0, 0, 0,  ..., 0, 0, 0]]])\n",
      "('positive',)\n"
     ]
    }
   ],
   "source": [
    "reviews = ReviewSet()\n",
    "reviewsloader = DataLoader(dataset=reviews, batch_size=1)\n",
    "for x, y in reviewsloader:\n",
    "    print(x)\n",
    "    print(y)\n",
    "    break"
   ],
   "metadata": {
    "collapsed": false,
    "pycharm": {
     "name": "#%%\n"
    }
   }
  },
  {
   "cell_type": "code",
   "execution_count": null,
   "outputs": [],
   "source": [],
   "metadata": {
    "collapsed": false,
    "pycharm": {
     "name": "#%%\n"
    }
   }
  }
 ],
 "metadata": {
  "kernelspec": {
   "display_name": "Python 3",
   "language": "python",
   "name": "python3"
  },
  "language_info": {
   "codemirror_mode": {
    "name": "ipython",
    "version": 2
   },
   "file_extension": ".py",
   "mimetype": "text/x-python",
   "name": "python",
   "nbconvert_exporter": "python",
   "pygments_lexer": "ipython2",
   "version": "2.7.6"
  }
 },
 "nbformat": 4,
 "nbformat_minor": 0
}