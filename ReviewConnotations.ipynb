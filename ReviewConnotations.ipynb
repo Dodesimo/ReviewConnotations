{
 "cells": [
  {
   "cell_type": "code",
   "execution_count": 2,
   "outputs": [],
   "source": [
    "import torch\n",
    "import numpy\n",
    "import pandas as pd"
   ],
   "metadata": {
    "collapsed": false,
    "pycharm": {
     "name": "#%%\n"
    }
   }
  },
  {
   "cell_type": "code",
   "execution_count": 3,
   "outputs": [
    {
     "data": {
      "text/plain": "                                                  review sentiment\n15708  Well I just discovered IMDb from my twin siste...  positive\n40507  Steven Seagal has made a really dull, bad and ...  negative\n25419  This very loose retelling of Carmen begins on ...  negative\n10233  Right, here we go, you have probably read in p...  positive\n29573  A super comedy series from the 1990s (Two seri...  positive",
      "text/html": "<div>\n<style scoped>\n    .dataframe tbody tr th:only-of-type {\n        vertical-align: middle;\n    }\n\n    .dataframe tbody tr th {\n        vertical-align: top;\n    }\n\n    .dataframe thead th {\n        text-align: right;\n    }\n</style>\n<table border=\"1\" class=\"dataframe\">\n  <thead>\n    <tr style=\"text-align: right;\">\n      <th></th>\n      <th>review</th>\n      <th>sentiment</th>\n    </tr>\n  </thead>\n  <tbody>\n    <tr>\n      <th>15708</th>\n      <td>Well I just discovered IMDb from my twin siste...</td>\n      <td>positive</td>\n    </tr>\n    <tr>\n      <th>40507</th>\n      <td>Steven Seagal has made a really dull, bad and ...</td>\n      <td>negative</td>\n    </tr>\n    <tr>\n      <th>25419</th>\n      <td>This very loose retelling of Carmen begins on ...</td>\n      <td>negative</td>\n    </tr>\n    <tr>\n      <th>10233</th>\n      <td>Right, here we go, you have probably read in p...</td>\n      <td>positive</td>\n    </tr>\n    <tr>\n      <th>29573</th>\n      <td>A super comedy series from the 1990s (Two seri...</td>\n      <td>positive</td>\n    </tr>\n  </tbody>\n</table>\n</div>"
     },
     "execution_count": 3,
     "metadata": {},
     "output_type": "execute_result"
    }
   ],
   "source": [
    "#Read the dataset.\n",
    "dataframe = pd.read_csv(\"/Users/devam/PycharmProjects/ReviewConnotations/IMDB Dataset.csv\")\n",
    "dataframe.sample(5)"
   ],
   "metadata": {
    "collapsed": false,
    "pycharm": {
     "name": "#%%\n"
    }
   }
  },
  {
   "cell_type": "code",
   "execution_count": null,
   "outputs": [],
   "source": [],
   "metadata": {
    "collapsed": false,
    "pycharm": {
     "name": "#%%\n"
    }
   }
  }
 ],
 "metadata": {
  "kernelspec": {
   "display_name": "Python 3",
   "language": "python",
   "name": "python3"
  },
  "language_info": {
   "codemirror_mode": {
    "name": "ipython",
    "version": 2
   },
   "file_extension": ".py",
   "mimetype": "text/x-python",
   "name": "python",
   "nbconvert_exporter": "python",
   "pygments_lexer": "ipython2",
   "version": "2.7.6"
  }
 },
 "nbformat": 4,
 "nbformat_minor": 0
}